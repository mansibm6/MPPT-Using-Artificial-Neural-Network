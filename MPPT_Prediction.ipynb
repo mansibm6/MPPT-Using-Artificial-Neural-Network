{
  "nbformat": 4,
  "nbformat_minor": 0,
  "metadata": {
    "colab": {
      "name": "MPPT Prediction.ipynb",
      "provenance": [],
      "collapsed_sections": []
    },
    "kernelspec": {
      "name": "python3",
      "display_name": "Python 3"
    },
    "language_info": {
      "name": "python"
    }
  },
  "cells": [
    {
      "cell_type": "markdown",
      "metadata": {
        "id": "u-pdIM-7IoSF"
      },
      "source": [
        "## Import and Inspect the Data"
      ]
    },
    {
      "cell_type": "code",
      "metadata": {
        "colab": {
          "base_uri": "https://localhost:8080/",
          "height": 343
        },
        "id": "v3d9uQJAKDqg",
        "outputId": "46d49218-2761-4efa-dd11-60a49856626c"
      },
      "source": [
        "import pandas as pd\n",
        "data = pd.read_csv(\"/content/Pv_DATA_ANN.csv\")\n",
        "data.head(10)"
      ],
      "execution_count": 1,
      "outputs": [
        {
          "output_type": "execute_result",
          "data": {
            "text/html": [
              "<div>\n",
              "<style scoped>\n",
              "    .dataframe tbody tr th:only-of-type {\n",
              "        vertical-align: middle;\n",
              "    }\n",
              "\n",
              "    .dataframe tbody tr th {\n",
              "        vertical-align: top;\n",
              "    }\n",
              "\n",
              "    .dataframe thead th {\n",
              "        text-align: right;\n",
              "    }\n",
              "</style>\n",
              "<table border=\"1\" class=\"dataframe\">\n",
              "  <thead>\n",
              "    <tr style=\"text-align: right;\">\n",
              "      <th></th>\n",
              "      <th>V1</th>\n",
              "      <th>P</th>\n",
              "      <th>G</th>\n",
              "      <th>Pmax</th>\n",
              "      <th>Vopt</th>\n",
              "    </tr>\n",
              "  </thead>\n",
              "  <tbody>\n",
              "    <tr>\n",
              "      <th>0</th>\n",
              "      <td>1</td>\n",
              "      <td>1.639</td>\n",
              "      <td>200</td>\n",
              "      <td>53.71</td>\n",
              "      <td>36.2</td>\n",
              "    </tr>\n",
              "    <tr>\n",
              "      <th>1</th>\n",
              "      <td>2</td>\n",
              "      <td>3.273</td>\n",
              "      <td>200</td>\n",
              "      <td>53.71</td>\n",
              "      <td>36.2</td>\n",
              "    </tr>\n",
              "    <tr>\n",
              "      <th>2</th>\n",
              "      <td>3</td>\n",
              "      <td>4.902</td>\n",
              "      <td>200</td>\n",
              "      <td>53.71</td>\n",
              "      <td>36.2</td>\n",
              "    </tr>\n",
              "    <tr>\n",
              "      <th>3</th>\n",
              "      <td>4</td>\n",
              "      <td>6.527</td>\n",
              "      <td>200</td>\n",
              "      <td>53.71</td>\n",
              "      <td>36.2</td>\n",
              "    </tr>\n",
              "    <tr>\n",
              "      <th>4</th>\n",
              "      <td>5</td>\n",
              "      <td>8.147</td>\n",
              "      <td>200</td>\n",
              "      <td>53.71</td>\n",
              "      <td>36.2</td>\n",
              "    </tr>\n",
              "    <tr>\n",
              "      <th>5</th>\n",
              "      <td>6</td>\n",
              "      <td>9.762</td>\n",
              "      <td>200</td>\n",
              "      <td>53.71</td>\n",
              "      <td>36.2</td>\n",
              "    </tr>\n",
              "    <tr>\n",
              "      <th>6</th>\n",
              "      <td>7</td>\n",
              "      <td>11.370</td>\n",
              "      <td>200</td>\n",
              "      <td>53.71</td>\n",
              "      <td>36.2</td>\n",
              "    </tr>\n",
              "    <tr>\n",
              "      <th>7</th>\n",
              "      <td>8</td>\n",
              "      <td>12.980</td>\n",
              "      <td>200</td>\n",
              "      <td>53.71</td>\n",
              "      <td>36.2</td>\n",
              "    </tr>\n",
              "    <tr>\n",
              "      <th>8</th>\n",
              "      <td>9</td>\n",
              "      <td>14.580</td>\n",
              "      <td>200</td>\n",
              "      <td>53.71</td>\n",
              "      <td>36.2</td>\n",
              "    </tr>\n",
              "    <tr>\n",
              "      <th>9</th>\n",
              "      <td>10</td>\n",
              "      <td>16.170</td>\n",
              "      <td>200</td>\n",
              "      <td>53.71</td>\n",
              "      <td>36.2</td>\n",
              "    </tr>\n",
              "  </tbody>\n",
              "</table>\n",
              "</div>"
            ],
            "text/plain": [
              "   V1       P    G   Pmax  Vopt\n",
              "0   1   1.639  200  53.71  36.2\n",
              "1   2   3.273  200  53.71  36.2\n",
              "2   3   4.902  200  53.71  36.2\n",
              "3   4   6.527  200  53.71  36.2\n",
              "4   5   8.147  200  53.71  36.2\n",
              "5   6   9.762  200  53.71  36.2\n",
              "6   7  11.370  200  53.71  36.2\n",
              "7   8  12.980  200  53.71  36.2\n",
              "8   9  14.580  200  53.71  36.2\n",
              "9  10  16.170  200  53.71  36.2"
            ]
          },
          "metadata": {
            "tags": []
          },
          "execution_count": 1
        }
      ]
    },
    {
      "cell_type": "markdown",
      "metadata": {
        "id": "Anfg2oZBKdrX"
      },
      "source": [
        "## Preprocess Data\n"
      ]
    },
    {
      "cell_type": "code",
      "metadata": {
        "colab": {
          "base_uri": "https://localhost:8080/",
          "height": 402
        },
        "id": "VkrohZ_yKN7i",
        "outputId": "337f038c-90f1-4d94-aabf-3a80384fd811"
      },
      "source": [
        "data_frame = pd.DataFrame(data)\n",
        "data_frame"
      ],
      "execution_count": 2,
      "outputs": [
        {
          "output_type": "execute_result",
          "data": {
            "text/html": [
              "<div>\n",
              "<style scoped>\n",
              "    .dataframe tbody tr th:only-of-type {\n",
              "        vertical-align: middle;\n",
              "    }\n",
              "\n",
              "    .dataframe tbody tr th {\n",
              "        vertical-align: top;\n",
              "    }\n",
              "\n",
              "    .dataframe thead th {\n",
              "        text-align: right;\n",
              "    }\n",
              "</style>\n",
              "<table border=\"1\" class=\"dataframe\">\n",
              "  <thead>\n",
              "    <tr style=\"text-align: right;\">\n",
              "      <th></th>\n",
              "      <th>V1</th>\n",
              "      <th>P</th>\n",
              "      <th>G</th>\n",
              "      <th>Pmax</th>\n",
              "      <th>Vopt</th>\n",
              "    </tr>\n",
              "  </thead>\n",
              "  <tbody>\n",
              "    <tr>\n",
              "      <th>0</th>\n",
              "      <td>1</td>\n",
              "      <td>1.639</td>\n",
              "      <td>200</td>\n",
              "      <td>53.71</td>\n",
              "      <td>36.2</td>\n",
              "    </tr>\n",
              "    <tr>\n",
              "      <th>1</th>\n",
              "      <td>2</td>\n",
              "      <td>3.273</td>\n",
              "      <td>200</td>\n",
              "      <td>53.71</td>\n",
              "      <td>36.2</td>\n",
              "    </tr>\n",
              "    <tr>\n",
              "      <th>2</th>\n",
              "      <td>3</td>\n",
              "      <td>4.902</td>\n",
              "      <td>200</td>\n",
              "      <td>53.71</td>\n",
              "      <td>36.2</td>\n",
              "    </tr>\n",
              "    <tr>\n",
              "      <th>3</th>\n",
              "      <td>4</td>\n",
              "      <td>6.527</td>\n",
              "      <td>200</td>\n",
              "      <td>53.71</td>\n",
              "      <td>36.2</td>\n",
              "    </tr>\n",
              "    <tr>\n",
              "      <th>4</th>\n",
              "      <td>5</td>\n",
              "      <td>8.147</td>\n",
              "      <td>200</td>\n",
              "      <td>53.71</td>\n",
              "      <td>36.2</td>\n",
              "    </tr>\n",
              "    <tr>\n",
              "      <th>...</th>\n",
              "      <td>...</td>\n",
              "      <td>...</td>\n",
              "      <td>...</td>\n",
              "      <td>...</td>\n",
              "      <td>...</td>\n",
              "    </tr>\n",
              "    <tr>\n",
              "      <th>1255</th>\n",
              "      <td>41</td>\n",
              "      <td>257.000</td>\n",
              "      <td>1000</td>\n",
              "      <td>292.70</td>\n",
              "      <td>38.0</td>\n",
              "    </tr>\n",
              "    <tr>\n",
              "      <th>1256</th>\n",
              "      <td>42</td>\n",
              "      <td>221.000</td>\n",
              "      <td>1000</td>\n",
              "      <td>292.70</td>\n",
              "      <td>38.0</td>\n",
              "    </tr>\n",
              "    <tr>\n",
              "      <th>1257</th>\n",
              "      <td>43</td>\n",
              "      <td>167.500</td>\n",
              "      <td>1000</td>\n",
              "      <td>292.70</td>\n",
              "      <td>38.0</td>\n",
              "    </tr>\n",
              "    <tr>\n",
              "      <th>1258</th>\n",
              "      <td>44</td>\n",
              "      <td>94.870</td>\n",
              "      <td>1000</td>\n",
              "      <td>292.70</td>\n",
              "      <td>38.0</td>\n",
              "    </tr>\n",
              "    <tr>\n",
              "      <th>1259</th>\n",
              "      <td>45</td>\n",
              "      <td>2.675</td>\n",
              "      <td>1000</td>\n",
              "      <td>292.70</td>\n",
              "      <td>38.0</td>\n",
              "    </tr>\n",
              "  </tbody>\n",
              "</table>\n",
              "<p>1260 rows × 5 columns</p>\n",
              "</div>"
            ],
            "text/plain": [
              "      V1        P     G    Pmax  Vopt\n",
              "0      1    1.639   200   53.71  36.2\n",
              "1      2    3.273   200   53.71  36.2\n",
              "2      3    4.902   200   53.71  36.2\n",
              "3      4    6.527   200   53.71  36.2\n",
              "4      5    8.147   200   53.71  36.2\n",
              "...   ..      ...   ...     ...   ...\n",
              "1255  41  257.000  1000  292.70  38.0\n",
              "1256  42  221.000  1000  292.70  38.0\n",
              "1257  43  167.500  1000  292.70  38.0\n",
              "1258  44   94.870  1000  292.70  38.0\n",
              "1259  45    2.675  1000  292.70  38.0\n",
              "\n",
              "[1260 rows x 5 columns]"
            ]
          },
          "metadata": {
            "tags": []
          },
          "execution_count": 2
        }
      ]
    },
    {
      "cell_type": "code",
      "metadata": {
        "colab": {
          "base_uri": "https://localhost:8080/"
        },
        "id": "eRelc56GKXby",
        "outputId": "70183e3d-95e0-4ffd-9ba9-496d56ac0f14"
      },
      "source": [
        "# Creating features and labels\n",
        "X = data_frame.drop(\"Pmax\", axis=1)\n",
        "y = data_frame[\"Pmax\"]\n",
        "X.shape, y.shape"
      ],
      "execution_count": 3,
      "outputs": [
        {
          "output_type": "execute_result",
          "data": {
            "text/plain": [
              "((1260, 4), (1260,))"
            ]
          },
          "metadata": {
            "tags": []
          },
          "execution_count": 3
        }
      ]
    },
    {
      "cell_type": "code",
      "metadata": {
        "colab": {
          "base_uri": "https://localhost:8080/"
        },
        "id": "K-G1INXWLBrD",
        "outputId": "2fafda2b-641f-48f1-d48d-47e7a4a83aac"
      },
      "source": [
        "# Creating training and test sets\n",
        "from sklearn.model_selection import train_test_split\n",
        "X_train, X_test, y_train, y_test = train_test_split(X, y, test_size=0.20)\n",
        "len(X), len(X_train), len(X_test)"
      ],
      "execution_count": 4,
      "outputs": [
        {
          "output_type": "execute_result",
          "data": {
            "text/plain": [
              "(1260, 1008, 252)"
            ]
          },
          "metadata": {
            "tags": []
          },
          "execution_count": 4
        }
      ]
    },
    {
      "cell_type": "code",
      "metadata": {
        "colab": {
          "base_uri": "https://localhost:8080/",
          "height": 195
        },
        "id": "em0maTJzMCS2",
        "outputId": "23be4249-0eab-4e11-b65d-d6625982529c"
      },
      "source": [
        "X_train.head()"
      ],
      "execution_count": 5,
      "outputs": [
        {
          "output_type": "execute_result",
          "data": {
            "text/html": [
              "<div>\n",
              "<style scoped>\n",
              "    .dataframe tbody tr th:only-of-type {\n",
              "        vertical-align: middle;\n",
              "    }\n",
              "\n",
              "    .dataframe tbody tr th {\n",
              "        vertical-align: top;\n",
              "    }\n",
              "\n",
              "    .dataframe thead th {\n",
              "        text-align: right;\n",
              "    }\n",
              "</style>\n",
              "<table border=\"1\" class=\"dataframe\">\n",
              "  <thead>\n",
              "    <tr style=\"text-align: right;\">\n",
              "      <th></th>\n",
              "      <th>V1</th>\n",
              "      <th>P</th>\n",
              "      <th>G</th>\n",
              "      <th>Vopt</th>\n",
              "    </tr>\n",
              "  </thead>\n",
              "  <tbody>\n",
              "    <tr>\n",
              "      <th>950</th>\n",
              "      <td>6</td>\n",
              "      <td>40.78</td>\n",
              "      <td>830</td>\n",
              "      <td>37.9</td>\n",
              "    </tr>\n",
              "    <tr>\n",
              "      <th>979</th>\n",
              "      <td>35</td>\n",
              "      <td>233.00</td>\n",
              "      <td>830</td>\n",
              "      <td>37.9</td>\n",
              "    </tr>\n",
              "    <tr>\n",
              "      <th>941</th>\n",
              "      <td>42</td>\n",
              "      <td>169.10</td>\n",
              "      <td>800</td>\n",
              "      <td>37.7</td>\n",
              "    </tr>\n",
              "    <tr>\n",
              "      <th>126</th>\n",
              "      <td>37</td>\n",
              "      <td>71.35</td>\n",
              "      <td>260</td>\n",
              "      <td>36.6</td>\n",
              "    </tr>\n",
              "    <tr>\n",
              "      <th>255</th>\n",
              "      <td>31</td>\n",
              "      <td>86.58</td>\n",
              "      <td>350</td>\n",
              "      <td>37.0</td>\n",
              "    </tr>\n",
              "  </tbody>\n",
              "</table>\n",
              "</div>"
            ],
            "text/plain": [
              "     V1       P    G  Vopt\n",
              "950   6   40.78  830  37.9\n",
              "979  35  233.00  830  37.9\n",
              "941  42  169.10  800  37.7\n",
              "126  37   71.35  260  36.6\n",
              "255  31   86.58  350  37.0"
            ]
          },
          "metadata": {
            "tags": []
          },
          "execution_count": 5
        }
      ]
    },
    {
      "cell_type": "markdown",
      "metadata": {
        "id": "NFSxztSMMFkE"
      },
      "source": [
        "## Build first model"
      ]
    },
    {
      "cell_type": "code",
      "metadata": {
        "colab": {
          "base_uri": "https://localhost:8080/"
        },
        "id": "EN81FiAIMMok",
        "outputId": "72363d26-4737-445d-8060-2ffa9bcb6749"
      },
      "source": [
        "import tensorflow as tf\n",
        "import numpy as np\n",
        "import matplotlib.pyplot as plt\n",
        "import keras\n",
        "\n",
        "# Set random seed\n",
        "tf.random.set_seed(42)\n",
        "\n",
        "# Create model (model_1)\n",
        "model_1 = tf.keras.Sequential([\n",
        "                               tf.keras.layers.Dense(100, activation=\"relu\"),\n",
        "                               tf.keras.layers.Dense(10, activation=\"relu\"),\n",
        "                               tf.keras.layers.Dense(1)\n",
        "])\n",
        "\n",
        "# Compile the model\n",
        "model_1.compile(loss=keras.losses.mae,\n",
        "                optimizer=tf.keras.optimizers.Adam(lr=0.0001),\n",
        "                metrics=[\"mae\"])\n",
        "\n",
        "# Fit the model\n",
        "history_1=model_1.fit(X_train, y_train, epochs=100)\n"
      ],
      "execution_count": 6,
      "outputs": [
        {
          "output_type": "stream",
          "text": [
            "Epoch 1/100\n",
            "32/32 [==============================] - 1s 1ms/step - loss: 202.6631 - mae: 202.6631\n",
            "Epoch 2/100\n",
            "32/32 [==============================] - 0s 2ms/step - loss: 182.6466 - mae: 182.6466\n",
            "Epoch 3/100\n",
            "32/32 [==============================] - 0s 1ms/step - loss: 171.0006 - mae: 171.0006\n",
            "Epoch 4/100\n",
            "32/32 [==============================] - 0s 1ms/step - loss: 169.4303 - mae: 169.4303\n",
            "Epoch 5/100\n",
            "32/32 [==============================] - 0s 2ms/step - loss: 169.5088 - mae: 169.5088\n",
            "Epoch 6/100\n",
            "32/32 [==============================] - 0s 2ms/step - loss: 168.5838 - mae: 168.5838\n",
            "Epoch 7/100\n",
            "32/32 [==============================] - 0s 1ms/step - loss: 165.5161 - mae: 165.5161\n",
            "Epoch 8/100\n",
            "32/32 [==============================] - 0s 1ms/step - loss: 167.0325 - mae: 167.0325\n",
            "Epoch 9/100\n",
            "32/32 [==============================] - 0s 2ms/step - loss: 165.9864 - mae: 165.9864\n",
            "Epoch 10/100\n",
            "32/32 [==============================] - 0s 2ms/step - loss: 163.3684 - mae: 163.3684\n",
            "Epoch 11/100\n",
            "32/32 [==============================] - 0s 2ms/step - loss: 156.9198 - mae: 156.9198\n",
            "Epoch 12/100\n",
            "32/32 [==============================] - 0s 2ms/step - loss: 153.9355 - mae: 153.9355\n",
            "Epoch 13/100\n",
            "32/32 [==============================] - 0s 1ms/step - loss: 154.9517 - mae: 154.9517\n",
            "Epoch 14/100\n",
            "32/32 [==============================] - 0s 2ms/step - loss: 149.3108 - mae: 149.3108\n",
            "Epoch 15/100\n",
            "32/32 [==============================] - 0s 2ms/step - loss: 144.4765 - mae: 144.4765\n",
            "Epoch 16/100\n",
            "32/32 [==============================] - 0s 1ms/step - loss: 141.2038 - mae: 141.2038\n",
            "Epoch 17/100\n",
            "32/32 [==============================] - 0s 2ms/step - loss: 134.5445 - mae: 134.5445\n",
            "Epoch 18/100\n",
            "32/32 [==============================] - 0s 2ms/step - loss: 128.5731 - mae: 128.5731\n",
            "Epoch 19/100\n",
            "32/32 [==============================] - 0s 2ms/step - loss: 119.8110 - mae: 119.8110\n",
            "Epoch 20/100\n",
            "32/32 [==============================] - 0s 2ms/step - loss: 115.7624 - mae: 115.7624\n",
            "Epoch 21/100\n",
            "32/32 [==============================] - 0s 2ms/step - loss: 106.5924 - mae: 106.5924\n",
            "Epoch 22/100\n",
            "32/32 [==============================] - 0s 2ms/step - loss: 99.1784 - mae: 99.1784\n",
            "Epoch 23/100\n",
            "32/32 [==============================] - 0s 2ms/step - loss: 88.6914 - mae: 88.6914\n",
            "Epoch 24/100\n",
            "32/32 [==============================] - 0s 2ms/step - loss: 74.0079 - mae: 74.0079\n",
            "Epoch 25/100\n",
            "32/32 [==============================] - 0s 2ms/step - loss: 66.1070 - mae: 66.1070\n",
            "Epoch 26/100\n",
            "32/32 [==============================] - 0s 1ms/step - loss: 53.3897 - mae: 53.3897\n",
            "Epoch 27/100\n",
            "32/32 [==============================] - 0s 2ms/step - loss: 39.5802 - mae: 39.5802\n",
            "Epoch 28/100\n",
            "32/32 [==============================] - 0s 2ms/step - loss: 26.4925 - mae: 26.4925\n",
            "Epoch 29/100\n",
            "32/32 [==============================] - 0s 2ms/step - loss: 11.7469 - mae: 11.7469\n",
            "Epoch 30/100\n",
            "32/32 [==============================] - 0s 2ms/step - loss: 6.5436 - mae: 6.5436\n",
            "Epoch 31/100\n",
            "32/32 [==============================] - 0s 2ms/step - loss: 4.9873 - mae: 4.9873\n",
            "Epoch 32/100\n",
            "32/32 [==============================] - 0s 2ms/step - loss: 4.6229 - mae: 4.6229\n",
            "Epoch 33/100\n",
            "32/32 [==============================] - 0s 1ms/step - loss: 3.6458 - mae: 3.6458\n",
            "Epoch 34/100\n",
            "32/32 [==============================] - 0s 1ms/step - loss: 3.0128 - mae: 3.0128\n",
            "Epoch 35/100\n",
            "32/32 [==============================] - 0s 2ms/step - loss: 2.2530 - mae: 2.2530\n",
            "Epoch 36/100\n",
            "32/32 [==============================] - 0s 2ms/step - loss: 1.6275 - mae: 1.6275\n",
            "Epoch 37/100\n",
            "32/32 [==============================] - 0s 1ms/step - loss: 1.1905 - mae: 1.1905\n",
            "Epoch 38/100\n",
            "32/32 [==============================] - 0s 2ms/step - loss: 0.8434 - mae: 0.8434\n",
            "Epoch 39/100\n",
            "32/32 [==============================] - 0s 2ms/step - loss: 0.7157 - mae: 0.7157\n",
            "Epoch 40/100\n",
            "32/32 [==============================] - 0s 1ms/step - loss: 0.6063 - mae: 0.6063\n",
            "Epoch 41/100\n",
            "32/32 [==============================] - 0s 2ms/step - loss: 0.4856 - mae: 0.4856\n",
            "Epoch 42/100\n",
            "32/32 [==============================] - 0s 2ms/step - loss: 0.4403 - mae: 0.4403\n",
            "Epoch 43/100\n",
            "32/32 [==============================] - 0s 2ms/step - loss: 0.4636 - mae: 0.4636\n",
            "Epoch 44/100\n",
            "32/32 [==============================] - 0s 2ms/step - loss: 0.4049 - mae: 0.4049\n",
            "Epoch 45/100\n",
            "32/32 [==============================] - 0s 2ms/step - loss: 0.3345 - mae: 0.3345\n",
            "Epoch 46/100\n",
            "32/32 [==============================] - 0s 2ms/step - loss: 0.3162 - mae: 0.3162\n",
            "Epoch 47/100\n",
            "32/32 [==============================] - 0s 2ms/step - loss: 0.2993 - mae: 0.2993\n",
            "Epoch 48/100\n",
            "32/32 [==============================] - 0s 2ms/step - loss: 0.3281 - mae: 0.3281\n",
            "Epoch 49/100\n",
            "32/32 [==============================] - 0s 1ms/step - loss: 0.2703 - mae: 0.2703\n",
            "Epoch 50/100\n",
            "32/32 [==============================] - 0s 2ms/step - loss: 0.2924 - mae: 0.2924\n",
            "Epoch 51/100\n",
            "32/32 [==============================] - 0s 3ms/step - loss: 0.2292 - mae: 0.2292\n",
            "Epoch 52/100\n",
            "32/32 [==============================] - 0s 1ms/step - loss: 0.2311 - mae: 0.2311\n",
            "Epoch 53/100\n",
            "32/32 [==============================] - 0s 2ms/step - loss: 0.2021 - mae: 0.2021\n",
            "Epoch 54/100\n",
            "32/32 [==============================] - 0s 1ms/step - loss: 0.1796 - mae: 0.1796\n",
            "Epoch 55/100\n",
            "32/32 [==============================] - 0s 2ms/step - loss: 0.1892 - mae: 0.1892\n",
            "Epoch 56/100\n",
            "32/32 [==============================] - 0s 2ms/step - loss: 0.1737 - mae: 0.1737\n",
            "Epoch 57/100\n",
            "32/32 [==============================] - 0s 2ms/step - loss: 0.1554 - mae: 0.1554\n",
            "Epoch 58/100\n",
            "32/32 [==============================] - 0s 2ms/step - loss: 0.2188 - mae: 0.2188\n",
            "Epoch 59/100\n",
            "32/32 [==============================] - 0s 2ms/step - loss: 0.1346 - mae: 0.1346\n",
            "Epoch 60/100\n",
            "32/32 [==============================] - 0s 3ms/step - loss: 0.1527 - mae: 0.1527\n",
            "Epoch 61/100\n",
            "32/32 [==============================] - 0s 2ms/step - loss: 0.1313 - mae: 0.1313\n",
            "Epoch 62/100\n",
            "32/32 [==============================] - 0s 1ms/step - loss: 0.1386 - mae: 0.1386\n",
            "Epoch 63/100\n",
            "32/32 [==============================] - 0s 1ms/step - loss: 0.1431 - mae: 0.1431\n",
            "Epoch 64/100\n",
            "32/32 [==============================] - 0s 1ms/step - loss: 0.1300 - mae: 0.1300\n",
            "Epoch 65/100\n",
            "32/32 [==============================] - 0s 2ms/step - loss: 0.1320 - mae: 0.1320\n",
            "Epoch 66/100\n",
            "32/32 [==============================] - 0s 2ms/step - loss: 0.1827 - mae: 0.1827\n",
            "Epoch 67/100\n",
            "32/32 [==============================] - 0s 3ms/step - loss: 0.1274 - mae: 0.1274\n",
            "Epoch 68/100\n",
            "32/32 [==============================] - 0s 1ms/step - loss: 0.1544 - mae: 0.1544\n",
            "Epoch 69/100\n",
            "32/32 [==============================] - 0s 1ms/step - loss: 0.1336 - mae: 0.1336\n",
            "Epoch 70/100\n",
            "32/32 [==============================] - 0s 1ms/step - loss: 0.1388 - mae: 0.1388\n",
            "Epoch 71/100\n",
            "32/32 [==============================] - 0s 2ms/step - loss: 0.1844 - mae: 0.1844\n",
            "Epoch 72/100\n",
            "32/32 [==============================] - 0s 1ms/step - loss: 0.1459 - mae: 0.1459\n",
            "Epoch 73/100\n",
            "32/32 [==============================] - 0s 2ms/step - loss: 0.1406 - mae: 0.1406\n",
            "Epoch 74/100\n",
            "32/32 [==============================] - 0s 2ms/step - loss: 0.1339 - mae: 0.1339\n",
            "Epoch 75/100\n",
            "32/32 [==============================] - 0s 2ms/step - loss: 0.1642 - mae: 0.1642\n",
            "Epoch 76/100\n",
            "32/32 [==============================] - 0s 3ms/step - loss: 0.1304 - mae: 0.1304\n",
            "Epoch 77/100\n",
            "32/32 [==============================] - 0s 2ms/step - loss: 0.1472 - mae: 0.1472\n",
            "Epoch 78/100\n",
            "32/32 [==============================] - 0s 2ms/step - loss: 0.1368 - mae: 0.1368\n",
            "Epoch 79/100\n",
            "32/32 [==============================] - 0s 2ms/step - loss: 0.1331 - mae: 0.1331\n",
            "Epoch 80/100\n",
            "32/32 [==============================] - 0s 2ms/step - loss: 0.1667 - mae: 0.1667\n",
            "Epoch 81/100\n",
            "32/32 [==============================] - 0s 2ms/step - loss: 0.1424 - mae: 0.1424\n",
            "Epoch 82/100\n",
            "32/32 [==============================] - 0s 2ms/step - loss: 0.1421 - mae: 0.1421\n",
            "Epoch 83/100\n",
            "32/32 [==============================] - 0s 1ms/step - loss: 0.1342 - mae: 0.1342\n",
            "Epoch 84/100\n",
            "32/32 [==============================] - 0s 2ms/step - loss: 0.1462 - mae: 0.1462\n",
            "Epoch 85/100\n",
            "32/32 [==============================] - 0s 1ms/step - loss: 0.1458 - mae: 0.1458\n",
            "Epoch 86/100\n",
            "32/32 [==============================] - 0s 2ms/step - loss: 0.1419 - mae: 0.1419\n",
            "Epoch 87/100\n",
            "32/32 [==============================] - 0s 2ms/step - loss: 0.1378 - mae: 0.1378\n",
            "Epoch 88/100\n",
            "32/32 [==============================] - 0s 1ms/step - loss: 0.1919 - mae: 0.1919\n",
            "Epoch 89/100\n",
            "32/32 [==============================] - 0s 2ms/step - loss: 0.1471 - mae: 0.1471\n",
            "Epoch 90/100\n",
            "32/32 [==============================] - 0s 2ms/step - loss: 0.1583 - mae: 0.1583\n",
            "Epoch 91/100\n",
            "32/32 [==============================] - 0s 1ms/step - loss: 0.1677 - mae: 0.1677\n",
            "Epoch 92/100\n",
            "32/32 [==============================] - 0s 1ms/step - loss: 0.1381 - mae: 0.1381\n",
            "Epoch 93/100\n",
            "32/32 [==============================] - 0s 2ms/step - loss: 0.1366 - mae: 0.1366\n",
            "Epoch 94/100\n",
            "32/32 [==============================] - 0s 2ms/step - loss: 0.1549 - mae: 0.1549\n",
            "Epoch 95/100\n",
            "32/32 [==============================] - 0s 2ms/step - loss: 0.1453 - mae: 0.1453\n",
            "Epoch 96/100\n",
            "32/32 [==============================] - 0s 2ms/step - loss: 0.1339 - mae: 0.1339\n",
            "Epoch 97/100\n",
            "32/32 [==============================] - 0s 2ms/step - loss: 0.1314 - mae: 0.1314\n",
            "Epoch 98/100\n",
            "32/32 [==============================] - 0s 2ms/step - loss: 0.1275 - mae: 0.1275\n",
            "Epoch 99/100\n",
            "32/32 [==============================] - 0s 2ms/step - loss: 0.1419 - mae: 0.1419\n",
            "Epoch 100/100\n",
            "32/32 [==============================] - 0s 2ms/step - loss: 0.1414 - mae: 0.1414\n"
          ],
          "name": "stdout"
        }
      ]
    },
    {
      "cell_type": "markdown",
      "metadata": {
        "id": "FR-naqWCOXlu"
      },
      "source": [
        "## Evaluate the model"
      ]
    },
    {
      "cell_type": "code",
      "metadata": {
        "colab": {
          "base_uri": "https://localhost:8080/",
          "height": 296
        },
        "id": "2suW8YftNJCa",
        "outputId": "d360998d-2281-46a8-8f2c-0142bd18e1de"
      },
      "source": [
        "# Plot training curve\n",
        "pd.DataFrame(history_1.history).plot()\n",
        "plt.xlabel(\"epochs\")\n",
        "plt.ylabel(\"loss\")"
      ],
      "execution_count": 7,
      "outputs": [
        {
          "output_type": "execute_result",
          "data": {
            "text/plain": [
              "Text(0, 0.5, 'loss')"
            ]
          },
          "metadata": {
            "tags": []
          },
          "execution_count": 7
        },
        {
          "output_type": "display_data",
          "data": {
            "image/png": "[encoded data removed]",
            "text/plain": [
              "<Figure size 432x288 with 1 Axes>"
            ]
          },
          "metadata": {
            "tags": [],
            "needs_background": "light"
          }
        }
      ]
    },
    {
      "cell_type": "code",
      "metadata": {
        "colab": {
          "base_uri": "https://localhost:8080/"
        },
        "id": "_VFhyoJrORRc",
        "outputId": "023a71e8-fbb4-49e8-fa9a-eea9e536cd08"
      },
      "source": [
        "# Evaluate the model\n",
        "model_1.evaluate(X_test, y_test)"
      ],
      "execution_count": 8,
      "outputs": [
        {
          "output_type": "stream",
          "text": [
            "8/8 [==============================] - 0s 3ms/step - loss: 0.1285 - mae: 0.1285\n"
          ],
          "name": "stdout"
        },
        {
          "output_type": "execute_result",
          "data": {
            "text/plain": [
              "[0.12847328186035156, 0.12847328186035156]"
            ]
          },
          "metadata": {
            "tags": []
          },
          "execution_count": 8
        }
      ]
    },
    {
      "cell_type": "markdown",
      "metadata": {
        "id": "vW8qBqLbPFcE"
      },
      "source": [
        "# Build second model with normalized data\n"
      ]
    },
    {
      "cell_type": "markdown",
      "metadata": {
        "id": "FZj2xeJVQGgc"
      },
      "source": [
        "## Preprocess data"
      ]
    },
    {
      "cell_type": "code",
      "metadata": {
        "colab": {
          "base_uri": "https://localhost:8080/",
          "height": 402
        },
        "id": "ho9G_6jUQZqj",
        "outputId": "532b96d1-bcc1-49ce-eb31-c5a29cb524fc"
      },
      "source": [
        "data_frame"
      ],
      "execution_count": 9,
      "outputs": [
        {
          "output_type": "execute_result",
          "data": {
            "text/html": [
              "<div>\n",
              "<style scoped>\n",
              "    .dataframe tbody tr th:only-of-type {\n",
              "        vertical-align: middle;\n",
              "    }\n",
              "\n",
              "    .dataframe tbody tr th {\n",
              "        vertical-align: top;\n",
              "    }\n",
              "\n",
              "    .dataframe thead th {\n",
              "        text-align: right;\n",
              "    }\n",
              "</style>\n",
              "<table border=\"1\" class=\"dataframe\">\n",
              "  <thead>\n",
              "    <tr style=\"text-align: right;\">\n",
              "      <th></th>\n",
              "      <th>V1</th>\n",
              "      <th>P</th>\n",
              "      <th>G</th>\n",
              "      <th>Pmax</th>\n",
              "      <th>Vopt</th>\n",
              "    </tr>\n",
              "  </thead>\n",
              "  <tbody>\n",
              "    <tr>\n",
              "      <th>0</th>\n",
              "      <td>1</td>\n",
              "      <td>1.639</td>\n",
              "      <td>200</td>\n",
              "      <td>53.71</td>\n",
              "      <td>36.2</td>\n",
              "    </tr>\n",
              "    <tr>\n",
              "      <th>1</th>\n",
              "      <td>2</td>\n",
              "      <td>3.273</td>\n",
              "      <td>200</td>\n",
              "      <td>53.71</td>\n",
              "      <td>36.2</td>\n",
              "    </tr>\n",
              "    <tr>\n",
              "      <th>2</th>\n",
              "      <td>3</td>\n",
              "      <td>4.902</td>\n",
              "      <td>200</td>\n",
              "      <td>53.71</td>\n",
              "      <td>36.2</td>\n",
              "    </tr>\n",
              "    <tr>\n",
              "      <th>3</th>\n",
              "      <td>4</td>\n",
              "      <td>6.527</td>\n",
              "      <td>200</td>\n",
              "      <td>53.71</td>\n",
              "      <td>36.2</td>\n",
              "    </tr>\n",
              "    <tr>\n",
              "      <th>4</th>\n",
              "      <td>5</td>\n",
              "      <td>8.147</td>\n",
              "      <td>200</td>\n",
              "      <td>53.71</td>\n",
              "      <td>36.2</td>\n",
              "    </tr>\n",
              "    <tr>\n",
              "      <th>...</th>\n",
              "      <td>...</td>\n",
              "      <td>...</td>\n",
              "      <td>...</td>\n",
              "      <td>...</td>\n",
              "      <td>...</td>\n",
              "    </tr>\n",
              "    <tr>\n",
              "      <th>1255</th>\n",
              "      <td>41</td>\n",
              "      <td>257.000</td>\n",
              "      <td>1000</td>\n",
              "      <td>292.70</td>\n",
              "      <td>38.0</td>\n",
              "    </tr>\n",
              "    <tr>\n",
              "      <th>1256</th>\n",
              "      <td>42</td>\n",
              "      <td>221.000</td>\n",
              "      <td>1000</td>\n",
              "      <td>292.70</td>\n",
              "      <td>38.0</td>\n",
              "    </tr>\n",
              "    <tr>\n",
              "      <th>1257</th>\n",
              "      <td>43</td>\n",
              "      <td>167.500</td>\n",
              "      <td>1000</td>\n",
              "      <td>292.70</td>\n",
              "      <td>38.0</td>\n",
              "    </tr>\n",
              "    <tr>\n",
              "      <th>1258</th>\n",
              "      <td>44</td>\n",
              "      <td>94.870</td>\n",
              "      <td>1000</td>\n",
              "      <td>292.70</td>\n",
              "      <td>38.0</td>\n",
              "    </tr>\n",
              "    <tr>\n",
              "      <th>1259</th>\n",
              "      <td>45</td>\n",
              "      <td>2.675</td>\n",
              "      <td>1000</td>\n",
              "      <td>292.70</td>\n",
              "      <td>38.0</td>\n",
              "    </tr>\n",
              "  </tbody>\n",
              "</table>\n",
              "<p>1260 rows × 5 columns</p>\n",
              "</div>"
            ],
            "text/plain": [
              "      V1        P     G    Pmax  Vopt\n",
              "0      1    1.639   200   53.71  36.2\n",
              "1      2    3.273   200   53.71  36.2\n",
              "2      3    4.902   200   53.71  36.2\n",
              "3      4    6.527   200   53.71  36.2\n",
              "4      5    8.147   200   53.71  36.2\n",
              "...   ..      ...   ...     ...   ...\n",
              "1255  41  257.000  1000  292.70  38.0\n",
              "1256  42  221.000  1000  292.70  38.0\n",
              "1257  43  167.500  1000  292.70  38.0\n",
              "1258  44   94.870  1000  292.70  38.0\n",
              "1259  45    2.675  1000  292.70  38.0\n",
              "\n",
              "[1260 rows x 5 columns]"
            ]
          },
          "metadata": {
            "tags": []
          },
          "execution_count": 9
        }
      ]
    },
    {
      "cell_type": "code",
      "metadata": {
        "colab": {
          "base_uri": "https://localhost:8080/"
        },
        "id": "vtjyYQEWQbFe",
        "outputId": "1a887278-5cb1-47a5-d414-1c172abebef1"
      },
      "source": [
        "data_frame[\"V1\"].max(), data_frame[\"P\"].max(), data_frame[\"G\"].max(), data_frame[\"Vopt\"].max()"
      ],
      "execution_count": 10,
      "outputs": [
        {
          "output_type": "execute_result",
          "data": {
            "text/plain": [
              "(45, 292.7, 1000, 38.9)"
            ]
          },
          "metadata": {
            "tags": []
          },
          "execution_count": 10
        }
      ]
    },
    {
      "cell_type": "code",
      "metadata": {
        "colab": {
          "base_uri": "https://localhost:8080/"
        },
        "id": "FK04q5UIQftn",
        "outputId": "ac7fe0a7-17e0-4d64-bae1-2a8471daf27f"
      },
      "source": [
        "X[\"V1\"] = X[\"V1\"]/45\n",
        "X[\"P\"] = X[\"P\"]/292.7\n",
        "X[\"G\"] = X[\"G\"]/1000\n",
        "X[\"Vopt\"] =X[\"Vopt\"]/38.9\n",
        "X[\"V1\"].max(), X[\"P\"].max(), X[\"G\"].max(), X[\"Vopt\"].max()"
      ],
      "execution_count": 11,
      "outputs": [
        {
          "output_type": "execute_result",
          "data": {
            "text/plain": [
              "(1.0, 1.0, 1.0, 1.0)"
            ]
          },
          "metadata": {
            "tags": []
          },
          "execution_count": 11
        }
      ]
    },
    {
      "cell_type": "code",
      "metadata": {
        "colab": {
          "base_uri": "https://localhost:8080/"
        },
        "id": "Qn1J1cnlR0ti",
        "outputId": "46d8c3b5-df8c-463c-cb81-f0146a5bc028"
      },
      "source": [
        "y.max()\n",
        "y = y/292.7\n",
        "y.max()"
      ],
      "execution_count": 12,
      "outputs": [
        {
          "output_type": "execute_result",
          "data": {
            "text/plain": [
              "1.0"
            ]
          },
          "metadata": {
            "tags": []
          },
          "execution_count": 12
        }
      ]
    },
    {
      "cell_type": "code",
      "metadata": {
        "colab": {
          "base_uri": "https://localhost:8080/"
        },
        "id": "AF-ifogcQ1Py",
        "outputId": "f7f094bc-f424-482a-f0a8-2bf07606c109"
      },
      "source": [
        "# Creating training and test sets\n",
        "from sklearn.model_selection import train_test_split\n",
        "X_train, X_test, y_train, y_test = train_test_split(X, y, test_size=0.20)\n",
        "len(X), len(X_train), len(X_test)"
      ],
      "execution_count": 13,
      "outputs": [
        {
          "output_type": "execute_result",
          "data": {
            "text/plain": [
              "(1260, 1008, 252)"
            ]
          },
          "metadata": {
            "tags": []
          },
          "execution_count": 13
        }
      ]
    },
    {
      "cell_type": "markdown",
      "metadata": {
        "id": "20scv_OhScxI"
      },
      "source": [
        "## Build second model (model_2)"
      ]
    },
    {
      "cell_type": "code",
      "metadata": {
        "colab": {
          "base_uri": "https://localhost:8080/"
        },
        "id": "eGI722wXRxcv",
        "outputId": "fdb007ae-4159-4710-c203-39eb4e8141d0"
      },
      "source": [
        "import tensorflow as tf\n",
        "import numpy as np\n",
        "import matplotlib.pyplot as plt\n",
        "import keras\n",
        "\n",
        "# Set random seed\n",
        "tf.random.set_seed(42)\n",
        "\n",
        "# Create model (model_1)\n",
        "model_2 = tf.keras.Sequential([\n",
        "                               tf.keras.layers.Dense(100, activation=\"relu\"),\n",
        "                               tf.keras.layers.Dense(100, activation=\"relu\"),\n",
        "                               tf.keras.layers.Dense(1)\n",
        "])\n",
        "\n",
        "# Compile the model\n",
        "model_2.compile(loss=keras.losses.mse,\n",
        "                optimizer=tf.keras.optimizers.Adam(lr=0.01),\n",
        "                metrics=[\"mse\"])\n",
        "\n",
        "# Fit the model\n",
        "history_2=model_2.fit(X_train, y_train, epochs=50)\n"
      ],
      "execution_count": 14,
      "outputs": [
        {
          "output_type": "stream",
          "text": [
            "Epoch 1/50\n",
            "32/32 [==============================] - 1s 2ms/step - loss: 0.0699 - mse: 0.0699\n",
            "Epoch 2/50\n",
            "32/32 [==============================] - 0s 2ms/step - loss: 0.0010 - mse: 0.0010    \n",
            "Epoch 3/50\n",
            "32/32 [==============================] - 0s 2ms/step - loss: 1.0647e-04 - mse: 1.0647e-04\n",
            "Epoch 4/50\n",
            "32/32 [==============================] - 0s 1ms/step - loss: 2.5906e-05 - mse: 2.5906e-05\n",
            "Epoch 5/50\n",
            "32/32 [==============================] - 0s 3ms/step - loss: 9.4840e-06 - mse: 9.4840e-06\n",
            "Epoch 6/50\n",
            "32/32 [==============================] - 0s 2ms/step - loss: 7.0182e-06 - mse: 7.0182e-06\n",
            "Epoch 7/50\n",
            "32/32 [==============================] - 0s 3ms/step - loss: 6.1641e-06 - mse: 6.1641e-06\n",
            "Epoch 8/50\n",
            "32/32 [==============================] - 0s 2ms/step - loss: 4.5944e-06 - mse: 4.5944e-06\n",
            "Epoch 9/50\n",
            "32/32 [==============================] - 0s 2ms/step - loss: 4.6176e-06 - mse: 4.6176e-06\n",
            "Epoch 10/50\n",
            "32/32 [==============================] - 0s 2ms/step - loss: 3.2142e-06 - mse: 3.2142e-06\n",
            "Epoch 11/50\n",
            "32/32 [==============================] - 0s 2ms/step - loss: 3.2546e-06 - mse: 3.2546e-06\n",
            "Epoch 12/50\n",
            "32/32 [==============================] - 0s 2ms/step - loss: 2.7001e-06 - mse: 2.7001e-06\n",
            "Epoch 13/50\n",
            "32/32 [==============================] - 0s 4ms/step - loss: 3.3153e-06 - mse: 3.3153e-06\n",
            "Epoch 14/50\n",
            "32/32 [==============================] - 0s 2ms/step - loss: 2.9645e-06 - mse: 2.9645e-06\n",
            "Epoch 15/50\n",
            "32/32 [==============================] - 0s 2ms/step - loss: 1.6369e-06 - mse: 1.6369e-06\n",
            "Epoch 16/50\n",
            "32/32 [==============================] - 0s 2ms/step - loss: 1.9594e-06 - mse: 1.9594e-06\n",
            "Epoch 17/50\n",
            "32/32 [==============================] - 0s 2ms/step - loss: 2.4730e-06 - mse: 2.4730e-06\n",
            "Epoch 18/50\n",
            "32/32 [==============================] - 0s 2ms/step - loss: 1.9178e-06 - mse: 1.9178e-06\n",
            "Epoch 19/50\n",
            "32/32 [==============================] - 0s 2ms/step - loss: 2.4321e-06 - mse: 2.4321e-06\n",
            "Epoch 20/50\n",
            "32/32 [==============================] - 0s 3ms/step - loss: 1.2498e-06 - mse: 1.2498e-06\n",
            "Epoch 21/50\n",
            "32/32 [==============================] - 0s 3ms/step - loss: 1.6262e-06 - mse: 1.6262e-06\n",
            "Epoch 22/50\n",
            "32/32 [==============================] - 0s 2ms/step - loss: 1.4235e-06 - mse: 1.4235e-06\n",
            "Epoch 23/50\n",
            "32/32 [==============================] - 0s 2ms/step - loss: 3.2626e-06 - mse: 3.2626e-06\n",
            "Epoch 24/50\n",
            "32/32 [==============================] - 0s 2ms/step - loss: 1.3573e-06 - mse: 1.3573e-06\n",
            "Epoch 25/50\n",
            "32/32 [==============================] - 0s 2ms/step - loss: 1.3925e-06 - mse: 1.3925e-06\n",
            "Epoch 26/50\n",
            "32/32 [==============================] - 0s 2ms/step - loss: 1.8264e-06 - mse: 1.8264e-06\n",
            "Epoch 27/50\n",
            "32/32 [==============================] - 0s 2ms/step - loss: 2.2061e-06 - mse: 2.2061e-06\n",
            "Epoch 28/50\n",
            "32/32 [==============================] - 0s 2ms/step - loss: 1.2227e-06 - mse: 1.2227e-06\n",
            "Epoch 29/50\n",
            "32/32 [==============================] - 0s 2ms/step - loss: 1.4481e-06 - mse: 1.4481e-06\n",
            "Epoch 30/50\n",
            "32/32 [==============================] - 0s 2ms/step - loss: 3.0422e-06 - mse: 3.0422e-06\n",
            "Epoch 31/50\n",
            "32/32 [==============================] - 0s 2ms/step - loss: 2.0670e-06 - mse: 2.0670e-06\n",
            "Epoch 32/50\n",
            "32/32 [==============================] - 0s 2ms/step - loss: 2.1283e-06 - mse: 2.1283e-06\n",
            "Epoch 33/50\n",
            "32/32 [==============================] - 0s 2ms/step - loss: 1.2289e-06 - mse: 1.2289e-06\n",
            "Epoch 34/50\n",
            "32/32 [==============================] - 0s 2ms/step - loss: 1.2054e-06 - mse: 1.2054e-06\n",
            "Epoch 35/50\n",
            "32/32 [==============================] - 0s 3ms/step - loss: 1.8611e-06 - mse: 1.8611e-06\n",
            "Epoch 36/50\n",
            "32/32 [==============================] - 0s 2ms/step - loss: 2.1633e-06 - mse: 2.1633e-06\n",
            "Epoch 37/50\n",
            "32/32 [==============================] - 0s 2ms/step - loss: 1.6395e-06 - mse: 1.6395e-06\n",
            "Epoch 38/50\n",
            "32/32 [==============================] - 0s 2ms/step - loss: 2.4494e-06 - mse: 2.4494e-06\n",
            "Epoch 39/50\n",
            "32/32 [==============================] - 0s 2ms/step - loss: 1.0341e-06 - mse: 1.0341e-06\n",
            "Epoch 40/50\n",
            "32/32 [==============================] - 0s 2ms/step - loss: 4.4462e-06 - mse: 4.4462e-06\n",
            "Epoch 41/50\n",
            "32/32 [==============================] - 0s 2ms/step - loss: 1.0594e-06 - mse: 1.0594e-06\n",
            "Epoch 42/50\n",
            "32/32 [==============================] - 0s 2ms/step - loss: 3.3105e-06 - mse: 3.3105e-06\n",
            "Epoch 43/50\n",
            "32/32 [==============================] - 0s 2ms/step - loss: 1.7600e-06 - mse: 1.7600e-06\n",
            "Epoch 44/50\n",
            "32/32 [==============================] - 0s 2ms/step - loss: 1.2095e-06 - mse: 1.2095e-06\n",
            "Epoch 45/50\n",
            "32/32 [==============================] - 0s 2ms/step - loss: 7.7311e-06 - mse: 7.7311e-06\n",
            "Epoch 46/50\n",
            "32/32 [==============================] - 0s 3ms/step - loss: 4.2454e-06 - mse: 4.2454e-06\n",
            "Epoch 47/50\n",
            "32/32 [==============================] - 0s 2ms/step - loss: 1.4884e-05 - mse: 1.4884e-05\n",
            "Epoch 48/50\n",
            "32/32 [==============================] - 0s 2ms/step - loss: 7.8714e-06 - mse: 7.8714e-06\n",
            "Epoch 49/50\n",
            "32/32 [==============================] - 0s 2ms/step - loss: 1.0295e-05 - mse: 1.0295e-05\n",
            "Epoch 50/50\n",
            "32/32 [==============================] - 0s 2ms/step - loss: 7.6433e-06 - mse: 7.6433e-06\n"
          ],
          "name": "stdout"
        }
      ]
    },
    {
      "cell_type": "markdown",
      "metadata": {
        "id": "pVLLmWAxSVY_"
      },
      "source": [
        "## Evaluate our model"
      ]
    },
    {
      "cell_type": "code",
      "metadata": {
        "colab": {
          "base_uri": "https://localhost:8080/"
        },
        "id": "-haTAD9RSg1j",
        "outputId": "1c59daac-285a-471d-9f53-81d7a9daf884"
      },
      "source": [
        "# Evaluate the model\n",
        "model_2.evaluate(X_test, y_test)"
      ],
      "execution_count": 15,
      "outputs": [
        {
          "output_type": "stream",
          "text": [
            "8/8 [==============================] - 0s 4ms/step - loss: 1.4853e-05 - mse: 1.4853e-05\n"
          ],
          "name": "stdout"
        },
        {
          "output_type": "execute_result",
          "data": {
            "text/plain": [
              "[1.4853332686470821e-05, 1.4853332686470821e-05]"
            ]
          },
          "metadata": {
            "tags": []
          },
          "execution_count": 15
        }
      ]
    },
    {
      "cell_type": "code",
      "metadata": {
        "colab": {
          "base_uri": "https://localhost:8080/",
          "height": 299
        },
        "id": "Mm1LsJgdSmMV",
        "outputId": "fd270ea0-1a1f-46b1-8e92-f4b7f0f34755"
      },
      "source": [
        "# Plot training curve\n",
        "pd.DataFrame(history_2.history).plot()\n",
        "plt.xlabel(\"epochs\")\n",
        "plt.ylabel(\"loss\")"
      ],
      "execution_count": 16,
      "outputs": [
        {
          "output_type": "execute_result",
          "data": {
            "text/plain": [
              "Text(0, 0.5, 'loss')"
            ]
          },
          "metadata": {
            "tags": []
          },
          "execution_count": 16
        },
        {
          "output_type": "display_data",
          "data": {
            "image/png": "[encoded data removed]",
            "text/plain": [
              "<Figure size 432x288 with 1 Axes>"
            ]
          },
          "metadata": {
            "tags": [],
            "needs_background": "light"
          }
        }
      ]
    },
    {
      "cell_type": "code",
      "metadata": {
        "id": "CM68isMuSujn"
      },
      "source": [
        "y_preds = model_2.predict(X_test)"
      ],
      "execution_count": 17,
      "outputs": []
    },
    {
      "cell_type": "code",
      "metadata": {
        "colab": {
          "base_uri": "https://localhost:8080/"
        },
        "id": "L73JHxSNS2Y6",
        "outputId": "5eec9458-d402-482a-e8c3-bc7e1bf7c93c"
      },
      "source": [
        "y_preds"
      ],
      "execution_count": 18,
      "outputs": [
        {
          "output_type": "execute_result",
          "data": {
            "text/plain": [
              "array([[0.5214576 ],\n",
              "       [0.7725036 ],\n",
              "       [0.8636715 ],\n",
              "       [0.4308526 ],\n",
              "       [0.4619959 ],\n",
              "       [0.58357155],\n",
              "       [0.9232363 ],\n",
              "       [0.52399737],\n",
              "       [0.800561  ],\n",
              "       [0.40089467],\n",
              "       [0.67568463],\n",
              "       [0.4914901 ],\n",
              "       [0.64645606],\n",
              "       [0.6123372 ],\n",
              "       [0.9874967 ],\n",
              "       [0.67621684],\n",
              "       [0.9256199 ],\n",
              "       [0.9832739 ],\n",
              "       [0.7694806 ],\n",
              "       [0.9838348 ],\n",
              "       [0.8315374 ],\n",
              "       [0.3688031 ],\n",
              "       [1.0055366 ],\n",
              "       [0.86283094],\n",
              "       [0.6483054 ],\n",
              "       [0.7403942 ],\n",
              "       [0.21440603],\n",
              "       [0.6144578 ],\n",
              "       [0.82932925],\n",
              "       [0.46120235],\n",
              "       [0.67855173],\n",
              "       [1.0065687 ],\n",
              "       [0.4914785 ],\n",
              "       [0.43016672],\n",
              "       [0.64560527],\n",
              "       [1.0059255 ],\n",
              "       [0.36845225],\n",
              "       [0.43015364],\n",
              "       [0.3391742 ],\n",
              "       [0.49216303],\n",
              "       [0.33687484],\n",
              "       [0.9251122 ],\n",
              "       [0.43025604],\n",
              "       [0.3993672 ],\n",
              "       [0.491684  ],\n",
              "       [0.2157727 ],\n",
              "       [0.18422389],\n",
              "       [0.58328444],\n",
              "       [0.986127  ],\n",
              "       [0.6145554 ],\n",
              "       [0.8951268 ],\n",
              "       [0.6748349 ],\n",
              "       [0.21641237],\n",
              "       [0.24500524],\n",
              "       [0.43020377],\n",
              "       [0.70799047],\n",
              "       [0.8016306 ],\n",
              "       [0.7692923 ],\n",
              "       [0.7386676 ],\n",
              "       [0.7995607 ],\n",
              "       [0.18524642],\n",
              "       [0.4302948 ],\n",
              "       [0.4907706 ],\n",
              "       [0.61528665],\n",
              "       [0.86327446],\n",
              "       [0.8648302 ],\n",
              "       [0.92493266],\n",
              "       [0.8637871 ],\n",
              "       [0.7404475 ],\n",
              "       [0.615356  ],\n",
              "       [0.36932227],\n",
              "       [0.7709717 ],\n",
              "       [0.39901364],\n",
              "       [0.7381037 ],\n",
              "       [0.2159423 ],\n",
              "       [0.7411918 ],\n",
              "       [0.6454891 ],\n",
              "       [0.21646927],\n",
              "       [0.8327553 ],\n",
              "       [0.4003895 ],\n",
              "       [0.7401473 ],\n",
              "       [0.39997151],\n",
              "       [0.8932027 ],\n",
              "       [0.6786289 ],\n",
              "       [0.80230457],\n",
              "       [0.9853344 ],\n",
              "       [0.70687723],\n",
              "       [0.9260783 ],\n",
              "       [0.2161975 ],\n",
              "       [0.5227763 ],\n",
              "       [0.8935302 ],\n",
              "       [0.3065482 ],\n",
              "       [1.0078409 ],\n",
              "       [0.42835927],\n",
              "       [0.77001315],\n",
              "       [0.80263764],\n",
              "       [0.7088269 ],\n",
              "       [0.92278117],\n",
              "       [0.6156335 ],\n",
              "       [0.27526852],\n",
              "       [0.7378286 ],\n",
              "       [0.5839159 ],\n",
              "       [0.4297467 ],\n",
              "       [0.80140454],\n",
              "       [0.9562539 ],\n",
              "       [0.6785044 ],\n",
              "       [0.46173674],\n",
              "       [0.36993182],\n",
              "       [0.27693254],\n",
              "       [0.2764695 ],\n",
              "       [0.801535  ],\n",
              "       [0.83211464],\n",
              "       [0.9541712 ],\n",
              "       [0.24492875],\n",
              "       [0.6148011 ],\n",
              "       [0.46110654],\n",
              "       [0.18407193],\n",
              "       [0.58408374],\n",
              "       [0.5231043 ],\n",
              "       [0.7689477 ],\n",
              "       [0.555376  ],\n",
              "       [0.5539986 ],\n",
              "       [0.6471338 ],\n",
              "       [0.36958474],\n",
              "       [0.71103007],\n",
              "       [0.67612845],\n",
              "       [0.39861178],\n",
              "       [0.8309845 ],\n",
              "       [0.21617807],\n",
              "       [0.36789647],\n",
              "       [0.9833744 ],\n",
              "       [0.42950088],\n",
              "       [0.49160165],\n",
              "       [0.46101406],\n",
              "       [0.3057825 ],\n",
              "       [0.46034843],\n",
              "       [0.42962375],\n",
              "       [0.67749083],\n",
              "       [0.7373443 ],\n",
              "       [0.49284858],\n",
              "       [0.18554129],\n",
              "       [0.67873824],\n",
              "       [0.49181062],\n",
              "       [0.4303607 ],\n",
              "       [0.460216  ],\n",
              "       [0.5837447 ],\n",
              "       [0.400362  ],\n",
              "       [0.98368186],\n",
              "       [0.92346454],\n",
              "       [0.70789224],\n",
              "       [0.30866602],\n",
              "       [0.4615514 ],\n",
              "       [0.5537589 ],\n",
              "       [0.2448584 ],\n",
              "       [0.6487291 ],\n",
              "       [0.58425224],\n",
              "       [0.18405873],\n",
              "       [0.9531095 ],\n",
              "       [0.5811122 ],\n",
              "       [0.2764616 ],\n",
              "       [0.89114   ],\n",
              "       [0.33999622],\n",
              "       [0.6457461 ],\n",
              "       [0.6754842 ],\n",
              "       [0.8323649 ],\n",
              "       [0.5551463 ],\n",
              "       [0.9861707 ],\n",
              "       [0.6751573 ],\n",
              "       [0.55371046],\n",
              "       [0.64590406],\n",
              "       [0.3060146 ],\n",
              "       [0.27513486],\n",
              "       [0.45981705],\n",
              "       [0.55450916],\n",
              "       [0.30671898],\n",
              "       [0.5855497 ],\n",
              "       [0.27764198],\n",
              "       [1.0043608 ],\n",
              "       [0.33832613],\n",
              "       [0.27534264],\n",
              "       [0.3702325 ],\n",
              "       [0.8633534 ],\n",
              "       [0.89092433],\n",
              "       [1.0038708 ],\n",
              "       [0.6151479 ],\n",
              "       [0.92308223],\n",
              "       [0.46112224],\n",
              "       [0.80264556],\n",
              "       [0.21614653],\n",
              "       [0.7105522 ],\n",
              "       [0.21552944],\n",
              "       [0.9228279 ],\n",
              "       [0.7385835 ],\n",
              "       [0.30892792],\n",
              "       [0.8946497 ],\n",
              "       [0.74031895],\n",
              "       [1.0042583 ],\n",
              "       [0.18584464],\n",
              "       [0.6168666 ],\n",
              "       [0.86102444],\n",
              "       [0.3059824 ],\n",
              "       [0.89062256],\n",
              "       [0.55516154],\n",
              "       [0.49221012],\n",
              "       [0.39846453],\n",
              "       [0.95202804],\n",
              "       [0.77105474],\n",
              "       [0.5834245 ],\n",
              "       [0.3082232 ],\n",
              "       [0.8648894 ],\n",
              "       [0.6759519 ],\n",
              "       [0.18509586],\n",
              "       [0.7076957 ],\n",
              "       [0.9554448 ],\n",
              "       [0.80308783],\n",
              "       [0.24579376],\n",
              "       [0.43120477],\n",
              "       [0.9254314 ],\n",
              "       [0.36955655],\n",
              "       [0.892378  ],\n",
              "       [0.18554069],\n",
              "       [1.0026151 ],\n",
              "       [0.24690016],\n",
              "       [0.21628596],\n",
              "       [0.21566285],\n",
              "       [0.30797586],\n",
              "       [0.33731276],\n",
              "       [0.7407327 ],\n",
              "       [0.92506593],\n",
              "       [0.3684746 ],\n",
              "       [0.9234553 ],\n",
              "       [0.2468228 ],\n",
              "       [0.3699227 ],\n",
              "       [0.89317214],\n",
              "       [0.24695179],\n",
              "       [0.27541596],\n",
              "       [0.4619338 ],\n",
              "       [0.36908957],\n",
              "       [0.61339307],\n",
              "       [0.55423373],\n",
              "       [0.36778864],\n",
              "       [0.4315275 ],\n",
              "       [0.74002695],\n",
              "       [0.37012133],\n",
              "       [0.58505833],\n",
              "       [0.92298543],\n",
              "       [0.18550801],\n",
              "       [0.9246971 ],\n",
              "       [0.89287716],\n",
              "       [0.9866088 ],\n",
              "       [0.80103236],\n",
              "       [0.83005387]], dtype=float32)"
            ]
          },
          "metadata": {
            "tags": []
          },
          "execution_count": 18
        }
      ]
    },
    {
      "cell_type": "code",
      "metadata": {
        "id": "6OSvArcNS5Wg"
      },
      "source": [
        "y_test = tf.squeeze(y_test)"
      ],
      "execution_count": 19,
      "outputs": []
    },
    {
      "cell_type": "code",
      "metadata": {
        "colab": {
          "base_uri": "https://localhost:8080/"
        },
        "id": "eEJk-ggBTLYJ",
        "outputId": "d8e36440-1150-46b5-8f68-eba1ff4d15e1"
      },
      "source": [
        "y_test"
      ],
      "execution_count": 20,
      "outputs": [
        {
          "output_type": "execute_result",
          "data": {
            "text/plain": [
              "<tf.Tensor: shape=(252,), dtype=float64, numpy=\n",
              "array([0.51930304, 0.76597198, 0.85787496, 0.42774172, 0.45814827,\n",
              "       0.58079945, 0.91902972, 0.51930304, 0.79672019, 0.39699351,\n",
              "       0.67372737, 0.48889648, 0.64297916, 0.61223095, 0.97984284,\n",
              "       0.67372737, 0.91902972, 0.97984284, 0.76597198, 0.97984284,\n",
              "       0.82712675, 0.3662453 , 1.        , 0.85787496, 0.64297916,\n",
              "       0.73522378, 0.2137342 , 0.61223095, 0.82712675, 0.45814827,\n",
              "       0.67372737, 1.        , 0.48889648, 0.42774172, 0.64297916,\n",
              "       1.        , 0.3662453 , 0.42774172, 0.33573625, 0.48889648,\n",
              "       0.33573625, 0.91902972, 0.42774172, 0.39699351, 0.48889648,\n",
              "       0.2137342 , 0.18349846, 0.58079945, 0.97984284, 0.61223095,\n",
              "       0.88828152, 0.67372737, 0.2137342 , 0.24410659, 0.42774172,\n",
              "       0.70447557, 0.79672019, 0.76597198, 0.73522378, 0.79672019,\n",
              "       0.18349846, 0.42774172, 0.48889648, 0.61223095, 0.85787496,\n",
              "       0.85787496, 0.91902972, 0.85787496, 0.73522378, 0.61223095,\n",
              "       0.3662453 , 0.76597198, 0.39699351, 0.73522378, 0.2137342 ,\n",
              "       0.73522378, 0.64297916, 0.2137342 , 0.82712675, 0.39699351,\n",
              "       0.73522378, 0.39699351, 0.88828152, 0.67372737, 0.79672019,\n",
              "       0.97984284, 0.70447557, 0.91902972, 0.2137342 , 0.51930304,\n",
              "       0.88828152, 0.3051247 , 1.        , 0.42774172, 0.76597198,\n",
              "       0.79672019, 0.70447557, 0.91902972, 0.61223095, 0.27458148,\n",
              "       0.73522378, 0.58079945, 0.42774172, 0.79672019, 0.94943628,\n",
              "       0.67372737, 0.45814827, 0.3662453 , 0.27458148, 0.27458148,\n",
              "       0.79672019, 0.82712675, 0.94943628, 0.24410659, 0.61223095,\n",
              "       0.45814827, 0.18349846, 0.58079945, 0.51930304, 0.76597198,\n",
              "       0.5497096 , 0.5497096 , 0.64297916, 0.3662453 , 0.70447557,\n",
              "       0.67372737, 0.39699351, 0.82712675, 0.2137342 , 0.3662453 ,\n",
              "       0.97984284, 0.42774172, 0.48889648, 0.45814827, 0.3051247 ,\n",
              "       0.45814827, 0.42774172, 0.67372737, 0.73522378, 0.48889648,\n",
              "       0.18349846, 0.67372737, 0.48889648, 0.42774172, 0.45814827,\n",
              "       0.58079945, 0.39699351, 0.97984284, 0.91902972, 0.70447557,\n",
              "       0.3051247 , 0.45814827, 0.5497096 , 0.24410659, 0.64297916,\n",
              "       0.58079945, 0.18349846, 0.94943628, 0.58079945, 0.27458148,\n",
              "       0.88828152, 0.33573625, 0.64297916, 0.67372737, 0.82712675,\n",
              "       0.5497096 , 0.97984284, 0.67372737, 0.5497096 , 0.64297916,\n",
              "       0.3051247 , 0.27458148, 0.45814827, 0.5497096 , 0.3051247 ,\n",
              "       0.58079945, 0.27458148, 1.        , 0.33573625, 0.27458148,\n",
              "       0.3662453 , 0.85787496, 0.88828152, 1.        , 0.61223095,\n",
              "       0.91902972, 0.45814827, 0.79672019, 0.2137342 , 0.70447557,\n",
              "       0.2137342 , 0.91902972, 0.73522378, 0.3051247 , 0.88828152,\n",
              "       0.73522378, 1.        , 0.18349846, 0.61223095, 0.85787496,\n",
              "       0.3051247 , 0.88828152, 0.5497096 , 0.48889648, 0.39699351,\n",
              "       0.94943628, 0.76597198, 0.58079945, 0.3051247 , 0.85787496,\n",
              "       0.67372737, 0.18349846, 0.70447557, 0.94943628, 0.79672019,\n",
              "       0.24410659, 0.42774172, 0.91902972, 0.3662453 , 0.88828152,\n",
              "       0.18349846, 1.        , 0.24410659, 0.2137342 , 0.2137342 ,\n",
              "       0.3051247 , 0.33573625, 0.73522378, 0.91902972, 0.3662453 ,\n",
              "       0.91902972, 0.24410659, 0.3662453 , 0.88828152, 0.24410659,\n",
              "       0.27458148, 0.45814827, 0.3662453 , 0.61223095, 0.5497096 ,\n",
              "       0.3662453 , 0.42774172, 0.73522378, 0.3662453 , 0.58079945,\n",
              "       0.91902972, 0.18349846, 0.91902972, 0.88828152, 0.97984284,\n",
              "       0.79672019, 0.82712675])>"
            ]
          },
          "metadata": {
            "tags": []
          },
          "execution_count": 20
        }
      ]
    },
    {
      "cell_type": "code",
      "metadata": {
        "id": "HZfdPKFlTYF6"
      },
      "source": [
        "y_preds=tf.squeeze(y_preds)\n"
      ],
      "execution_count": 21,
      "outputs": []
    },
    {
      "cell_type": "code",
      "metadata": {
        "colab": {
          "base_uri": "https://localhost:8080/"
        },
        "id": "Ic1SJt2OTeGk",
        "outputId": "b8022f92-59e7-4e20-d182-6af24b2f91d6"
      },
      "source": [
        "y_preds"
      ],
      "execution_count": 22,
      "outputs": [
        {
          "output_type": "execute_result",
          "data": {
            "text/plain": [
              "<tf.Tensor: shape=(252,), dtype=float32, numpy=\n",
              "array([0.5214576 , 0.7725036 , 0.8636715 , 0.4308526 , 0.4619959 ,\n",
              "       0.58357155, 0.9232363 , 0.52399737, 0.800561  , 0.40089467,\n",
              "       0.67568463, 0.4914901 , 0.64645606, 0.6123372 , 0.9874967 ,\n",
              "       0.67621684, 0.9256199 , 0.9832739 , 0.7694806 , 0.9838348 ,\n",
              "       0.8315374 , 0.3688031 , 1.0055366 , 0.86283094, 0.6483054 ,\n",
              "       0.7403942 , 0.21440603, 0.6144578 , 0.82932925, 0.46120235,\n",
              "       0.67855173, 1.0065687 , 0.4914785 , 0.43016672, 0.64560527,\n",
              "       1.0059255 , 0.36845225, 0.43015364, 0.3391742 , 0.49216303,\n",
              "       0.33687484, 0.9251122 , 0.43025604, 0.3993672 , 0.491684  ,\n",
              "       0.2157727 , 0.18422389, 0.58328444, 0.986127  , 0.6145554 ,\n",
              "       0.8951268 , 0.6748349 , 0.21641237, 0.24500524, 0.43020377,\n",
              "       0.70799047, 0.8016306 , 0.7692923 , 0.7386676 , 0.7995607 ,\n",
              "       0.18524642, 0.4302948 , 0.4907706 , 0.61528665, 0.86327446,\n",
              "       0.8648302 , 0.92493266, 0.8637871 , 0.7404475 , 0.615356  ,\n",
              "       0.36932227, 0.7709717 , 0.39901364, 0.7381037 , 0.2159423 ,\n",
              "       0.7411918 , 0.6454891 , 0.21646927, 0.8327553 , 0.4003895 ,\n",
              "       0.7401473 , 0.39997151, 0.8932027 , 0.6786289 , 0.80230457,\n",
              "       0.9853344 , 0.70687723, 0.9260783 , 0.2161975 , 0.5227763 ,\n",
              "       0.8935302 , 0.3065482 , 1.0078409 , 0.42835927, 0.77001315,\n",
              "       0.80263764, 0.7088269 , 0.92278117, 0.6156335 , 0.27526852,\n",
              "       0.7378286 , 0.5839159 , 0.4297467 , 0.80140454, 0.9562539 ,\n",
              "       0.6785044 , 0.46173674, 0.36993182, 0.27693254, 0.2764695 ,\n",
              "       0.801535  , 0.83211464, 0.9541712 , 0.24492875, 0.6148011 ,\n",
              "       0.46110654, 0.18407193, 0.58408374, 0.5231043 , 0.7689477 ,\n",
              "       0.555376  , 0.5539986 , 0.6471338 , 0.36958474, 0.71103007,\n",
              "       0.67612845, 0.39861178, 0.8309845 , 0.21617807, 0.36789647,\n",
              "       0.9833744 , 0.42950088, 0.49160165, 0.46101406, 0.3057825 ,\n",
              "       0.46034843, 0.42962375, 0.67749083, 0.7373443 , 0.49284858,\n",
              "       0.18554129, 0.67873824, 0.49181062, 0.4303607 , 0.460216  ,\n",
              "       0.5837447 , 0.400362  , 0.98368186, 0.92346454, 0.70789224,\n",
              "       0.30866602, 0.4615514 , 0.5537589 , 0.2448584 , 0.6487291 ,\n",
              "       0.58425224, 0.18405873, 0.9531095 , 0.5811122 , 0.2764616 ,\n",
              "       0.89114   , 0.33999622, 0.6457461 , 0.6754842 , 0.8323649 ,\n",
              "       0.5551463 , 0.9861707 , 0.6751573 , 0.55371046, 0.64590406,\n",
              "       0.3060146 , 0.27513486, 0.45981705, 0.55450916, 0.30671898,\n",
              "       0.5855497 , 0.27764198, 1.0043608 , 0.33832613, 0.27534264,\n",
              "       0.3702325 , 0.8633534 , 0.89092433, 1.0038708 , 0.6151479 ,\n",
              "       0.92308223, 0.46112224, 0.80264556, 0.21614653, 0.7105522 ,\n",
              "       0.21552944, 0.9228279 , 0.7385835 , 0.30892792, 0.8946497 ,\n",
              "       0.74031895, 1.0042583 , 0.18584464, 0.6168666 , 0.86102444,\n",
              "       0.3059824 , 0.89062256, 0.55516154, 0.49221012, 0.39846453,\n",
              "       0.95202804, 0.77105474, 0.5834245 , 0.3082232 , 0.8648894 ,\n",
              "       0.6759519 , 0.18509586, 0.7076957 , 0.9554448 , 0.80308783,\n",
              "       0.24579376, 0.43120477, 0.9254314 , 0.36955655, 0.892378  ,\n",
              "       0.18554069, 1.0026151 , 0.24690016, 0.21628596, 0.21566285,\n",
              "       0.30797586, 0.33731276, 0.7407327 , 0.92506593, 0.3684746 ,\n",
              "       0.9234553 , 0.2468228 , 0.3699227 , 0.89317214, 0.24695179,\n",
              "       0.27541596, 0.4619338 , 0.36908957, 0.61339307, 0.55423373,\n",
              "       0.36778864, 0.4315275 , 0.74002695, 0.37012133, 0.58505833,\n",
              "       0.92298543, 0.18550801, 0.9246971 , 0.89287716, 0.9866088 ,\n",
              "       0.80103236, 0.83005387], dtype=float32)>"
            ]
          },
          "metadata": {
            "tags": []
          },
          "execution_count": 22
        }
      ]
    },
    {
      "cell_type": "code",
      "metadata": {
        "colab": {
          "base_uri": "https://localhost:8080/"
        },
        "id": "Sqtec5XkTgeA",
        "outputId": "d7b67bf7-b969-4b32-c8f4-61cb3a2721c1"
      },
      "source": [
        "s1 = y_test*292.7\n",
        "s2 = y_preds*292.7\n",
        "s1, s2"
      ],
      "execution_count": 23,
      "outputs": [
        {
          "output_type": "execute_result",
          "data": {
            "text/plain": [
              "(<tf.Tensor: shape=(252,), dtype=float64, numpy=\n",
              " array([152.  , 224.2 , 251.1 , 125.2 , 134.1 , 170.  , 269.  , 152.  ,\n",
              "        233.2 , 116.2 , 197.2 , 143.1 , 188.2 , 179.2 , 286.8 , 197.2 ,\n",
              "        269.  , 286.8 , 224.2 , 286.8 , 242.1 , 107.2 , 292.7 , 251.1 ,\n",
              "        188.2 , 215.2 ,  62.56, 179.2 , 242.1 , 134.1 , 197.2 , 292.7 ,\n",
              "        143.1 , 125.2 , 188.2 , 292.7 , 107.2 , 125.2 ,  98.27, 143.1 ,\n",
              "         98.27, 269.  , 125.2 , 116.2 , 143.1 ,  62.56,  53.71, 170.  ,\n",
              "        286.8 , 179.2 , 260.  , 197.2 ,  62.56,  71.45, 125.2 , 206.2 ,\n",
              "        233.2 , 224.2 , 215.2 , 233.2 ,  53.71, 125.2 , 143.1 , 179.2 ,\n",
              "        251.1 , 251.1 , 269.  , 251.1 , 215.2 , 179.2 , 107.2 , 224.2 ,\n",
              "        116.2 , 215.2 ,  62.56, 215.2 , 188.2 ,  62.56, 242.1 , 116.2 ,\n",
              "        215.2 , 116.2 , 260.  , 197.2 , 233.2 , 286.8 , 206.2 , 269.  ,\n",
              "         62.56, 152.  , 260.  ,  89.31, 292.7 , 125.2 , 224.2 , 233.2 ,\n",
              "        206.2 , 269.  , 179.2 ,  80.37, 215.2 , 170.  , 125.2 , 233.2 ,\n",
              "        277.9 , 197.2 , 134.1 , 107.2 ,  80.37,  80.37, 233.2 , 242.1 ,\n",
              "        277.9 ,  71.45, 179.2 , 134.1 ,  53.71, 170.  , 152.  , 224.2 ,\n",
              "        160.9 , 160.9 , 188.2 , 107.2 , 206.2 , 197.2 , 116.2 , 242.1 ,\n",
              "         62.56, 107.2 , 286.8 , 125.2 , 143.1 , 134.1 ,  89.31, 134.1 ,\n",
              "        125.2 , 197.2 , 215.2 , 143.1 ,  53.71, 197.2 , 143.1 , 125.2 ,\n",
              "        134.1 , 170.  , 116.2 , 286.8 , 269.  , 206.2 ,  89.31, 134.1 ,\n",
              "        160.9 ,  71.45, 188.2 , 170.  ,  53.71, 277.9 , 170.  ,  80.37,\n",
              "        260.  ,  98.27, 188.2 , 197.2 , 242.1 , 160.9 , 286.8 , 197.2 ,\n",
              "        160.9 , 188.2 ,  89.31,  80.37, 134.1 , 160.9 ,  89.31, 170.  ,\n",
              "         80.37, 292.7 ,  98.27,  80.37, 107.2 , 251.1 , 260.  , 292.7 ,\n",
              "        179.2 , 269.  , 134.1 , 233.2 ,  62.56, 206.2 ,  62.56, 269.  ,\n",
              "        215.2 ,  89.31, 260.  , 215.2 , 292.7 ,  53.71, 179.2 , 251.1 ,\n",
              "         89.31, 260.  , 160.9 , 143.1 , 116.2 , 277.9 , 224.2 , 170.  ,\n",
              "         89.31, 251.1 , 197.2 ,  53.71, 206.2 , 277.9 , 233.2 ,  71.45,\n",
              "        125.2 , 269.  , 107.2 , 260.  ,  53.71, 292.7 ,  71.45,  62.56,\n",
              "         62.56,  89.31,  98.27, 215.2 , 269.  , 107.2 , 269.  ,  71.45,\n",
              "        107.2 , 260.  ,  71.45,  80.37, 134.1 , 107.2 , 179.2 , 160.9 ,\n",
              "        107.2 , 125.2 , 215.2 , 107.2 , 170.  , 269.  ,  53.71, 269.  ,\n",
              "        260.  , 286.8 , 233.2 , 242.1 ])>,\n",
              " <tf.Tensor: shape=(252,), dtype=float32, numpy=\n",
              " array([152.63065 , 226.11182 , 252.79665 , 126.11056 , 135.22621 ,\n",
              "        170.8114  , 270.2313  , 153.37404 , 234.32422 , 117.34187 ,\n",
              "        197.7729  , 143.85916 , 189.2177  , 179.2311  , 289.04028 ,\n",
              "        197.92868 , 270.92896 , 287.8043  , 225.22697 , 287.96844 ,\n",
              "        243.39102 , 107.94868 , 294.32056 , 252.55063 , 189.759   ,\n",
              "        216.71338 ,  62.75665 , 179.8518  , 242.74467 , 134.99393 ,\n",
              "        198.6121  , 294.62265 , 143.85576 , 125.909805, 188.96867 ,\n",
              "        294.43442 , 107.84598 , 125.905975,  99.2763  , 144.05612 ,\n",
              "         98.60327 , 270.78033 , 125.93595 , 116.89479 , 143.91591 ,\n",
              "         63.156673,  53.922337, 170.72736 , 288.6394  , 179.88037 ,\n",
              "        262.00363 , 197.52419 ,  63.343903,  71.713036, 125.92065 ,\n",
              "        207.22882 , 234.6373  , 225.17186 , 216.20802 , 234.03143 ,\n",
              "         54.22163 , 125.947296, 143.64856 , 180.0944  , 252.68045 ,\n",
              "        253.1358  , 270.7278  , 252.8305  , 216.729   , 180.11472 ,\n",
              "        108.10063 , 225.66344 , 116.7913  , 216.04295 ,  63.20631 ,\n",
              "        216.94685 , 188.93466 ,  63.360558, 243.7475  , 117.19401 ,\n",
              "        216.64113 , 117.07167 , 261.44046 , 198.63469 , 234.83455 ,\n",
              "        288.40738 , 206.90297 , 271.06314 ,  63.281013, 153.01663 ,\n",
              "        261.5363  ,  89.72666 , 294.99503 , 125.38076 , 225.38286 ,\n",
              "        234.93205 , 207.47365 , 270.09805 , 180.19592 ,  80.5711  ,\n",
              "        215.96245 , 170.91219 , 125.78686 , 234.57112 , 279.89554 ,\n",
              "        198.59825 , 135.15034 , 108.279045,  81.05816 ,  80.92262 ,\n",
              "        234.60931 , 243.55997 , 279.28592 ,  71.69065 , 179.95229 ,\n",
              "        134.9659  ,  53.877857, 170.96132 , 153.11264 , 225.07101 ,\n",
              "        162.55856 , 162.1554  , 189.41608 , 108.17746 , 208.11852 ,\n",
              "        197.9028  , 116.673676, 243.22917 ,  63.275326, 107.683304,\n",
              "        287.8337  , 125.71491 , 143.89182 , 134.93883 ,  89.50254 ,\n",
              "        134.74399 , 125.75088 , 198.30157 , 215.8207  , 144.25679 ,\n",
              "         54.307938, 198.66669 , 143.95297 , 125.96658 , 134.70523 ,\n",
              "        170.86208 , 117.18597 , 287.9237  , 270.2981  , 207.20007 ,\n",
              "         90.34655 , 135.0961  , 162.08524 ,  71.67006 , 189.88301 ,\n",
              "        171.01064 ,  53.873993, 278.97516 , 170.09155 ,  80.92031 ,\n",
              "        260.83667 ,  99.5169  , 189.00989 , 197.71423 , 243.63322 ,\n",
              "        162.49132 , 288.6522  , 197.61855 , 162.07106 , 189.05612 ,\n",
              "         89.57047 ,  80.531975, 134.58846 , 162.30484 ,  89.77665 ,\n",
              "        171.39041 ,  81.26581 , 293.9764  ,  99.02806 ,  80.5928  ,\n",
              "        108.36706 , 252.70354 , 260.77356 , 293.833   , 180.05379 ,\n",
              "        270.1862  , 134.97049 , 234.93437 ,  63.26609 , 207.97864 ,\n",
              "         63.085472, 270.11172 , 216.1834  ,  90.42321 , 261.86398 ,\n",
              "        216.69136 , 293.9464  ,  54.39673 , 180.55685 , 252.02187 ,\n",
              "         89.56106 , 260.68524 , 162.49579 , 144.0699  , 116.63057 ,\n",
              "        278.65863 , 225.68773 , 170.76836 ,  90.216934, 253.15314 ,\n",
              "        197.85114 ,  54.177563, 207.14255 , 279.65872 , 235.06381 ,\n",
              "         71.94384 , 126.21364 , 270.87378 , 108.169205, 261.19904 ,\n",
              "         54.307762, 293.46545 ,  72.26768 ,  63.306904,  63.12452 ,\n",
              "         90.14454 ,  98.731445, 216.81248 , 270.7668  , 107.85252 ,\n",
              "        270.29538 ,  72.24504 , 108.276375, 261.4315  ,  72.28279 ,\n",
              "         80.61425 , 135.20802 , 108.032524, 179.54016 , 162.22421 ,\n",
              "        107.65174 , 126.308105, 216.6059  , 108.33452 , 171.24658 ,\n",
              "        270.15784 ,  54.2982  , 270.65884 , 261.34515 , 288.7804  ,\n",
              "        234.46219 , 242.95677 ], dtype=float32)>)"
            ]
          },
          "metadata": {
            "tags": []
          },
          "execution_count": 23
        }
      ]
    },
    {
      "cell_type": "code",
      "metadata": {
        "colab": {
          "base_uri": "https://localhost:8080/"
        },
        "id": "0nbdA5BfU1u6",
        "outputId": "966e9a57-fb5f-4b38-9fc0-fe937c907b3a"
      },
      "source": [
        "s1[100], s2[100]"
      ],
      "execution_count": 27,
      "outputs": [
        {
          "output_type": "execute_result",
          "data": {
            "text/plain": [
              "(<tf.Tensor: shape=(), dtype=float64, numpy=215.2>,\n",
              " <tf.Tensor: shape=(), dtype=float32, numpy=215.96245>)"
            ]
          },
          "metadata": {
            "tags": []
          },
          "execution_count": 27
        }
      ]
    },
    {
      "cell_type": "code",
      "metadata": {
        "id": "r5PFc9tYWedC"
      },
      "source": [
        ""
      ],
      "execution_count": 24,
      "outputs": []
    }
  ]
}